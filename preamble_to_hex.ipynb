{
 "cells": [
  {
   "cell_type": "code",
   "execution_count": 12,
   "metadata": {},
   "outputs": [
    {
     "data": {
      "text/plain": [
       "[136,\n",
       " 200,\n",
       " 234,\n",
       " 216,\n",
       " 226,\n",
       " 84,\n",
       " 108,\n",
       " 249,\n",
       " 226,\n",
       " 220,\n",
       " 164,\n",
       " 19,\n",
       " 58,\n",
       " 62,\n",
       " 240,\n",
       " 127,\n",
       " 195,\n",
       " 220,\n",
       " 44,\n",
       " 219,\n",
       " 208,\n",
       " 230,\n",
       " 18,\n",
       " 43,\n",
       " 175,\n",
       " 37,\n",
       " 206,\n",
       " 7,\n",
       " 116,\n",
       " 245,\n",
       " 40,\n",
       " 21,\n",
       " 95,\n",
       " 90,\n",
       " 13,\n",
       " 219,\n",
       " 88,\n",
       " 46,\n",
       " 248,\n",
       " 243,\n",
       " 77,\n",
       " 113,\n",
       " 162,\n",
       " 254,\n",
       " 150,\n",
       " 41,\n",
       " 140,\n",
       " 6,\n",
       " 101,\n",
       " 100,\n",
       " 253,\n",
       " 164,\n",
       " 155,\n",
       " 242,\n",
       " 212,\n",
       " 40,\n",
       " 157,\n",
       " 151,\n",
       " 176,\n",
       " 213,\n",
       " 57,\n",
       " 12,\n",
       " 66,\n",
       " 1]"
      ]
     },
     "execution_count": 12,
     "metadata": {},
     "output_type": "execute_result"
    }
   ],
   "source": [
    "import numpy as np\n",
    "\n",
    "x = \"88 C8 EA D8 E2 54 6C F9 E2 DC A4 13 3A 3E F0 7F C3 DC 2C DB D0 E6 12 2B AF 25 CE 07 74 F5 28 15 5F 5A 0D DB 58 2E F8 F3 4D 71 A2 FE 96 29 8C 06 65 64 FD A4 9B F2 D4 28 9D 97 B0 D5 39 0C 42 01\"\n",
    "y = x.split()\n",
    "z = [int(i, 16) for i in y]\n",
    "print(z)"
   ]
  }
 ],
 "metadata": {
  "kernelspec": {
   "display_name": "Python 3.8.10 64-bit",
   "language": "python",
   "name": "python3"
  },
  "language_info": {
   "codemirror_mode": {
    "name": "ipython",
    "version": 3
   },
   "file_extension": ".py",
   "mimetype": "text/x-python",
   "name": "python",
   "nbconvert_exporter": "python",
   "pygments_lexer": "ipython3",
   "version": "3.8.10"
  },
  "orig_nbformat": 4,
  "vscode": {
   "interpreter": {
    "hash": "31f2aee4e71d21fbe5cf8b01ff0e069b9275f58929596ceb00d14d90e3e16cd6"
   }
  }
 },
 "nbformat": 4,
 "nbformat_minor": 2
}
