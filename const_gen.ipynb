{
 "cells": [
  {
   "cell_type": "code",
   "execution_count": 1,
   "metadata": {},
   "outputs": [],
   "source": [
    "import numpy as np\n"
   ]
  },
  {
   "cell_type": "code",
   "execution_count": 6,
   "metadata": {},
   "outputs": [
    {
     "data": {
      "text/plain": [
       "array([ 1.   +0.j   ,  0.623+0.782j, -0.223+0.975j, -0.901+0.434j,\n",
       "       -0.901-0.434j, -0.223-0.975j,  0.623-0.782j,  1.   -0.j   ])"
      ]
     },
     "execution_count": 6,
     "metadata": {},
     "output_type": "execute_result"
    }
   ],
   "source": [
    "amp = 1 # amplitude\n",
    "npts = 8 # number of constellation points\n",
    "\n",
    "delt = 2*np.pi / npts\n",
    "ang_vec = np.linspace(0, 2*np.pi - delt, npts)\n",
    "complx_vec = 1 * np.exp(1j * ang_vec)\n",
    "constellation_vec = np.around(complx_vec, decimals=3)\n",
    "constellation_vec"
   ]
  }
 ],
 "metadata": {
  "kernelspec": {
   "display_name": "Python 3.8.10 64-bit",
   "language": "python",
   "name": "python3"
  },
  "language_info": {
   "codemirror_mode": {
    "name": "ipython",
    "version": 3
   },
   "file_extension": ".py",
   "mimetype": "text/x-python",
   "name": "python",
   "nbconvert_exporter": "python",
   "pygments_lexer": "ipython3",
   "version": "3.8.10"
  },
  "orig_nbformat": 4,
  "vscode": {
   "interpreter": {
    "hash": "916dbcbb3f70747c44a77c7bcd40155683ae19c65e1c03b4aa3499c5328201f1"
   }
  }
 },
 "nbformat": 4,
 "nbformat_minor": 2
}
