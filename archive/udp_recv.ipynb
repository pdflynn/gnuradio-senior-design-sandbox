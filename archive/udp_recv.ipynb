{
 "cells": [
  {
   "cell_type": "code",
   "execution_count": 1,
   "metadata": {},
   "outputs": [],
   "source": [
    "import socket\n",
    "\n",
    "BARKER_13 = b\"1111100110101\"\n",
    "UDP_IP = \"127.0.0.1\"\n",
    "UDP_PORT = 9999"
   ]
  },
  {
   "cell_type": "code",
   "execution_count": 2,
   "metadata": {},
   "outputs": [
    {
     "name": "stdout",
     "output_type": "stream",
     "text": [
      "Received Data b'\\x00\\x01\\x01\\x00\\x01\\x01\\x00\\x00\\x00\\x01\\x01\\x00\\x01\\x01\\x00\\x00\\x00\\x01\\x01\\x00\\x01\\x01\\x01\\x01\\x00\\x00\\x01\\x00\\x00\\x00\\x00\\x00\\x00\\x01\\x00\\x01\\x00\\x01\\x01\\x01\\x00\\x01\\x01\\x00\\x01\\x01\\x01\\x01\\x00\\x01\\x01\\x01\\x00\\x00\\x01\\x00\\x00\\x01\\x01\\x00\\x01\\x01\\x00\\x00\\x00\\x01\\x01\\x00\\x00\\x01\\x00\\x00\\x00\\x00\\x00\\x00\\x00\\x00\\x01\\x00\\x00\\x00\\x00\\x00\\x00\\x00\\x00\\x00\\x00\\x00\\x00\\x00\\x01\\x00\\x01\\x01\\x00\\x01\\x00\\x00\\x01\\x00\\x00\\x00\\x00\\x01\\x01'\n"
     ]
    }
   ],
   "source": [
    "sock = socket.socket(socket.AF_INET, socket.SOCK_DGRAM)\n",
    "sock.setsockopt(socket.SOL_SOCKET, socket.SO_REUSEADDR, 1)\n",
    "sock.settimeout(5)\n",
    "sock.bind(('', UDP_PORT))\n",
    "\n",
    "received = False\n",
    "while not received:\n",
    "    try:\n",
    "        data, addr = sock.recvfrom(1472)\n",
    "        print('Received Data', data)\n",
    "        received = True\n",
    "\n",
    "        # print(data)\n",
    "    except socket.timeout:\n",
    "        print('timeout')\n",
    "        pass"
   ]
  },
  {
   "cell_type": "code",
   "execution_count": 3,
   "metadata": {},
   "outputs": [
    {
     "name": "stdout",
     "output_type": "stream",
     "text": [
      "Received Bits: 01101100011011000110111100100000010101110110111101110010011011000110010000000010000000000000101101001000011\n",
      "Message Bits: 01101100 01101100 01101111 00100000 01010111 01101111 01110010 01101100 01100100 00000010 00000000 00001011 01001000 011\n"
     ]
    }
   ],
   "source": [
    "received_bits = \"\"\n",
    "message_bits = \"\"\n",
    "count = 0\n",
    "for d in data:\n",
    "    received_bits += \"{:0b}\".format(d)\n",
    "    message_bits += \"{:0b}\".format(d)\n",
    "    count += 1\n",
    "    if count == 8:\n",
    "        message_bits += \" \"\n",
    "        count = 0\n",
    "print(\"Received Bits:\", received_bits)\n",
    "print(\"Message Bits:\", message_bits)"
   ]
  },
  {
   "cell_type": "code",
   "execution_count": null,
   "metadata": {},
   "outputs": [],
   "source": []
  }
 ],
 "metadata": {
  "kernelspec": {
   "display_name": "Python 3.8.10 64-bit",
   "language": "python",
   "name": "python3"
  },
  "language_info": {
   "codemirror_mode": {
    "name": "ipython",
    "version": 3
   },
   "file_extension": ".py",
   "mimetype": "text/x-python",
   "name": "python",
   "nbconvert_exporter": "python",
   "pygments_lexer": "ipython3",
   "version": "3.8.10"
  },
  "orig_nbformat": 4,
  "vscode": {
   "interpreter": {
    "hash": "916dbcbb3f70747c44a77c7bcd40155683ae19c65e1c03b4aa3499c5328201f1"
   }
  }
 },
 "nbformat": 4,
 "nbformat_minor": 2
}
